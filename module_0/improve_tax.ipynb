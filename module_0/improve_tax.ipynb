{
 "cells": [
  {
   "cell_type": "code",
   "execution_count": 63,
   "metadata": {},
   "outputs": [
    {
     "name": "stdout",
     "output_type": "stream",
     "text": [
      "Enter pls start of random (int only) 1\n",
      "Enter pls end of random (int only) 100\n",
      "Enter pls how many times do you want repeat your Cycle (int only) 1000\n",
      "15.176\n"
     ]
    }
   ],
   "source": [
    "def parity_and_reducing_variations(rnd_end,rnd_number,rnd_start):\n",
    "    \"\"\" This function find half number between start random number and\n",
    "    end random number. We need it because with this approuch we can reduce\n",
    "    variations of possibles numbers. After this we check parity of our nummer \n",
    "    und more reduce variations of possibles numbers \"\"\"\n",
    "    half_num = round((rnd_end+rnd_start) / 2)#find middl.in our interval in rnd\n",
    "    global rnd_number_list # take empty list from body\n",
    "    \n",
    "    if rnd_number>half_num: #check where is rnd_nummer in 1 interval \n",
    "        if rnd_number%2!=0: #check oddparity of rnd_number in 1 part\n",
    "            rnd_number_list = [n for n in range(half_num,rnd_end+1,1)\n",
    "                               if n%2!=0]#create oddparity list in 1 interval\n",
    "        else: #check parity of rnd_number in 1 part of interval\n",
    "            rnd_number_list = [n for n in range(half_num,rnd_end+1,1) \\\n",
    "                               if n%2==0]#create parity list in 1 interval\n",
    "    else: #check where is rnd_nummer in 2 part of interval \n",
    "        if rnd_number%2!=0: #check oddparity rnd_number in 2 interval\n",
    "            rnd_number_list = [n for n in range(rnd_start,half_num+1,1) \\\n",
    "                               if n%2!=0]#create oddparity list in 2 interval\n",
    "        else: #check parity rnd_number in 2 interval\n",
    "            rnd_number_list = [n for n in range(rnd_start,half_num+1,1) \\\n",
    "                               if n%2==0]#create parity list in 2 interval\n",
    "import numpy as np  \n",
    "rnd_start = int(input(\"Enter pls start of random (int only) \"))\n",
    "rnd_end = int(input(\"Enter pls end of random (int only) \"))\n",
    "repeats_num  = int(input(\"Enter pls how many times do you want repeat \\\n",
    "your Cycle (int only) \"))\n",
    "count_list = [] #create list for count\n",
    "while repeats_num!=0:\n",
    "    rnd_number = np.random.randint(rnd_start,rnd_end+1)\n",
    "    rnd_number_list = []\n",
    "    parity_and_reducing_variations(rnd_end,rnd_number,rnd_start)\n",
    "    count = 2 # amount of trying search rnd_number.2 times was already in func.\n",
    "    for num_in_list in rnd_number_list:\n",
    "        if rnd_number != num_in_list:\n",
    "            count+=1\n",
    "        else:\n",
    "            count+=1\n",
    "            count_list.append(count)\n",
    "            break\n",
    "    repeats_num-=1\n",
    "print(sum(count_list)/len(count_list))\n"
   ]
  },
  {
   "cell_type": "code",
   "execution_count": null,
   "metadata": {},
   "outputs": [],
   "source": []
  },
  {
   "cell_type": "code",
   "execution_count": null,
   "metadata": {},
   "outputs": [],
   "source": []
  },
  {
   "cell_type": "code",
   "execution_count": null,
   "metadata": {},
   "outputs": [],
   "source": []
  },
  {
   "cell_type": "code",
   "execution_count": null,
   "metadata": {},
   "outputs": [],
   "source": []
  }
 ],
 "metadata": {
  "kernelspec": {
   "display_name": "Python 3",
   "language": "python",
   "name": "python3"
  },
  "language_info": {
   "codemirror_mode": {
    "name": "ipython",
    "version": 3
   },
   "file_extension": ".py",
   "mimetype": "text/x-python",
   "name": "python",
   "nbconvert_exporter": "python",
   "pygments_lexer": "ipython3",
   "version": "3.8.5"
  }
 },
 "nbformat": 4,
 "nbformat_minor": 4
}

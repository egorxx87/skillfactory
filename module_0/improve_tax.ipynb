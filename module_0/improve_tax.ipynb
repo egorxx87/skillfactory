{
 "cells": [
  {
   "cell_type": "code",
   "execution_count": 121,
   "metadata": {},
   "outputs": [
    {
     "name": "stdout",
     "output_type": "stream",
     "text": [
      "Рандом  33\n",
      "нечет\n",
      "[3, 5, 7, 9, 11, 13, 15, 17, 19, 21, 23, 25, 27, 29, 31, 33, 35, 37, 39, 41, 43, 45, 47, 49, 51]\n"
     ]
    }
   ],
   "source": [
    "#def chetnie(num1,num2):\n",
    " #   halfnum = round(num/2)# узнаем половину\n",
    " #   if halfnum%!=0:\n",
    "import numpy as np\n",
    "num1 = 2\n",
    "num2 = 102\n",
    "number = np.random.randint(num1,num2+1)\n",
    "list = []\n",
    "#number =\n",
    "print(\"Рандом \",number)\n",
    "halfnum = round(num2/2) # разделение  отрезка на два  51\n",
    "if number > halfnum: # \n",
    "    if halfnum%2!=0:\n",
    "        if number%2!=0: #проверка на нечетность 51 до 102\n",
    "            for n in range(halfnum,num2+1,2):\n",
    "                list.append(n)\n",
    "            print(\"нечет\")\n",
    "        else: #проверка на четность от 52 до 102\n",
    "            for n in range(halfnum+1,num2+1,2):\n",
    "                list.append(n)\n",
    "            print(\"чет\")\n",
    "    else: #проверка на четность\n",
    "        if number%2==0:\n",
    "            for n in range(halfnum,num2+1,2):\n",
    "                list.append(n)\n",
    "            print(\"чет\")\n",
    "        else:#проверка на нечетность\n",
    "            for n in range(halfnum+1,num2+1,2): \n",
    "                list.append(n)\n",
    "            print(\"нечет\")\n",
    "else:\n",
    "    if num1%2!=0: # проверка num1 на нечетность \n",
    "        if number%2!=0: #проверка на нечетность\n",
    "            for n in range(num1,halfnum+1,2):\n",
    "                list.append(n)\n",
    "            print(\"нечет\")\n",
    "        else: #проверка на четность\n",
    "            for n in range(num1+1,halfnum+1,2):\n",
    "                list.append(n)\n",
    "            print(\"чет\")\n",
    "    else: #проверка на четность\n",
    "        if number%2==0:\n",
    "            for n in range(num1,halfnum+1,2):\n",
    "                list.append(n)\n",
    "            print(\"чет\")\n",
    "        else:#проверка на нечетность\n",
    "            for n in range(num1+1,halfnum+1,2): \n",
    "                list.append(n)\n",
    "            print(\"нечет\")\n",
    "    \n",
    "print(list)\n",
    "    "
   ]
  },
  {
   "cell_type": "code",
   "execution_count": null,
   "metadata": {},
   "outputs": [],
   "source": []
  },
  {
   "cell_type": "code",
   "execution_count": null,
   "metadata": {},
   "outputs": [],
   "source": []
  },
  {
   "cell_type": "code",
   "execution_count": null,
   "metadata": {},
   "outputs": [],
   "source": []
  },
  {
   "cell_type": "code",
   "execution_count": null,
   "metadata": {},
   "outputs": [],
   "source": []
  },
  {
   "cell_type": "code",
   "execution_count": null,
   "metadata": {},
   "outputs": [],
   "source": []
  }
 ],
 "metadata": {
  "kernelspec": {
   "display_name": "Python 3",
   "language": "python",
   "name": "python3"
  },
  "language_info": {
   "codemirror_mode": {
    "name": "ipython",
    "version": 3
   },
   "file_extension": ".py",
   "mimetype": "text/x-python",
   "name": "python",
   "nbconvert_exporter": "python",
   "pygments_lexer": "ipython3",
   "version": "3.8.5"
  }
 },
 "nbformat": 4,
 "nbformat_minor": 4
}

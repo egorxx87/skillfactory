{
 "cells": [
  {
   "cell_type": "code",
   "execution_count": 227,
   "metadata": {},
   "outputs": [
    {
     "name": "stdout",
     "output_type": "stream",
     "text": [
      "15.256\n"
     ]
    }
   ],
   "source": [
    "def parityForNumMoreHalfnum(halfnum,num2,number): #проверка на четность если number  > num2/2\n",
    "    if halfnum%2!=0:\n",
    "        if number%2!=0: #проверка на нечетность 51 до 102\n",
    "            for n in range(halfnum,num2+1,2):\n",
    "                    list.append(n)\n",
    "            #print(\"нечет\")\n",
    "        else: #проверка на четность от 52 до 102\n",
    "            for n in range(halfnum+1,num2+1,2):\n",
    "                    list.append(n)\n",
    "            #print(\"чет\")\n",
    "    else:\n",
    "        if number%2==0:\n",
    "            for n in range(halfnum,num2+1,2):\n",
    "                    list.append(n)\n",
    "            #print(\"чет\")\n",
    "        else:#проверка на нечетность\n",
    "            for n in range(halfnum+1,num2+1,2): \n",
    "                    list.append(n)\n",
    "            #print(\"нечет\")\n",
    "def parityForNumlesAndEqualHalfnum(halfnum,num2,number): #проверка на четность если number  > num2/2\n",
    "    if num1%2!=0: # проверка num1 на нечетность \n",
    "        if number%2!=0: #проверка на нечетность\n",
    "            for n in range(num1,halfnum+1,2):\n",
    "                list.append(n)\n",
    "            #print(\"нечет\")\n",
    "        else: #проверка на четность\n",
    "            for n in range(num1+1,halfnum+1,2):\n",
    "                list.append(n)\n",
    "            #print(\"чет\")\n",
    "    else: #проверка на четность\n",
    "        if number%2==0:\n",
    "            for n in range(num1,halfnum+1,2):\n",
    "                list.append(n)\n",
    "            #print(\"чет\")\n",
    "        else:#проверка на нечетность\n",
    "            for n in range(num1+1,halfnum+1,2): \n",
    "                list.append(n)\n",
    "            #print(\"нечет\")\n",
    "\n",
    "countoftimes = 10000\n",
    "listcount = []\n",
    "while countoftimes > 0:    \n",
    "    num1 = 1\n",
    "    num2 = 101\n",
    "    number = np.random.randint(num1,num2+1)\n",
    "    list = []\n",
    "    halfnum = round(num2/2)# разделение  отрезка на два  51\n",
    "    count = 1\n",
    "    if number > halfnum:\n",
    "        parityForNumMoreHalfnum(halfnum,num2,number)\n",
    "        count +=1\n",
    "        for num_list in list:\n",
    "            if number != num_list:\n",
    "                count +=1\n",
    "            else:\n",
    "                count+=1\n",
    "                break\n",
    "    else:\n",
    "        parityForNumlesAndEqualHalfnum(halfnum,num2,number)\n",
    "        count +=1\n",
    "        for num_list in list:\n",
    "            if number != num_list:\n",
    "                count +=1\n",
    "            else:\n",
    "                count+=1\n",
    "                break\n",
    "    #print(\"Рандом \",number)\n",
    "    #print(\"Количетсво \", count)\n",
    "    listcount.append(count)\n",
    "    #print(list)\n",
    "    countoftimes-=1\n",
    "print(sum(listcount)/len(listcount))\n",
    "\n"
   ]
  },
  {
   "cell_type": "code",
   "execution_count": null,
   "metadata": {},
   "outputs": [],
   "source": []
  },
  {
   "cell_type": "code",
   "execution_count": null,
   "metadata": {},
   "outputs": [],
   "source": []
  }
 ],
 "metadata": {
  "kernelspec": {
   "display_name": "Python 3",
   "language": "python",
   "name": "python3"
  },
  "language_info": {
   "codemirror_mode": {
    "name": "ipython",
    "version": 3
   },
   "file_extension": ".py",
   "mimetype": "text/x-python",
   "name": "python",
   "nbconvert_exporter": "python",
   "pygments_lexer": "ipython3",
   "version": "3.8.5"
  }
 },
 "nbformat": 4,
 "nbformat_minor": 4
}

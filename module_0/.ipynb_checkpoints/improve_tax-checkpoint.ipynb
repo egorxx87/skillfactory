{
 "cells": [
  {
   "cell_type": "code",
   "execution_count": 302,
   "metadata": {},
   "outputs": [
    {
     "name": "stdout",
     "output_type": "stream",
     "text": [
      "14.4355\n"
     ]
    }
   ],
   "source": [
    "def parityForNumMoreHalfnum(num2,number,num1):\n",
    "    halfnum = round(num2/2)#проверка на четность если number  > num2/2\n",
    "    global count\n",
    "    global list \n",
    "    if number > halfnum:# 69 > 50\n",
    "        if number%2!=0: #проверка на нечетность для создание  нечетного списка\n",
    "            list = [n for n in range(halfnum,num2+1,1) if n%2!=0]#нечет\n",
    "            count+=1\n",
    "        else: #проверка на четность для создание  четного списка\n",
    "            list = [n for n in range(halfnum,num2+1,1) if n%2==0]#четный список\n",
    "            count+=1\n",
    "    else:\n",
    "    #if num1%2!=0: # проверка num1 на нечетность \n",
    "        if number%2!=0: #проверка на нечетность\n",
    "            list = [n for n in range(num1,halfnum+1,1)if n%2!=0]#нечет\n",
    "            count+=1\n",
    "        else: #проверка на четность\n",
    "            list = [n for n in range(num1,halfnum+1,1)if n%2==0]#чет\n",
    "            count+=1\n",
    "# разделение  отрезка на два  51\n",
    "import numpy as np            \n",
    "num1 = 1\n",
    "num2 = 101\n",
    "numoftimes = 10000\n",
    "listcount = []\n",
    "while numoftimes != 0:\n",
    "    count = 0\n",
    "    number = np.random.randint(num1,num2+1)\n",
    "    #print(\"random number\", number)\n",
    "    list = []\n",
    "    parityForNumMoreHalfnum(num2,number,num1)\n",
    "    for num_list in list:\n",
    "        if number != num_list:\n",
    "            count +=1\n",
    "        else:\n",
    "            count+=1\n",
    "            listcount.append(count)\n",
    "            #print(\"listcount\",listcount)\n",
    "            break\n",
    "    #print(listcount)\n",
    "    numoftimes-=1\n",
    "print(sum(listcount)/len(listcount))\n",
    "\n"
   ]
  },
  {
   "cell_type": "code",
   "execution_count": null,
   "metadata": {},
   "outputs": [],
   "source": []
  },
  {
   "cell_type": "code",
   "execution_count": null,
   "metadata": {},
   "outputs": [],
   "source": []
  },
  {
   "cell_type": "code",
   "execution_count": null,
   "metadata": {},
   "outputs": [],
   "source": []
  }
 ],
 "metadata": {
  "kernelspec": {
   "display_name": "Python 3",
   "language": "python",
   "name": "python3"
  },
  "language_info": {
   "codemirror_mode": {
    "name": "ipython",
    "version": 3
   },
   "file_extension": ".py",
   "mimetype": "text/x-python",
   "name": "python",
   "nbconvert_exporter": "python",
   "pygments_lexer": "ipython3",
   "version": "3.8.5"
  }
 },
 "nbformat": 4,
 "nbformat_minor": 4
}
